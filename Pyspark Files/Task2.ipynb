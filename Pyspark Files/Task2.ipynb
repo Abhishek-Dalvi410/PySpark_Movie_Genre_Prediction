{
 "cells": [
  {
   "cell_type": "code",
   "execution_count": 18,
   "metadata": {},
   "outputs": [],
   "source": [
    "import pyspark\n",
    "from pyspark.sql import *\n",
    "from pyspark.sql.functions import *\n",
    "from pyspark.ml.feature import RegexTokenizer, StopWordsRemover, CountVectorizer \n",
    "from pyspark.ml.feature import HashingTF, IDF,Word2Vec\n",
    "from pyspark.sql.types import *\n",
    "from pyspark.ml.classification import LogisticRegression\n",
    "from pyspark.ml import Pipeline\n",
    "from pyspark.ml.feature import OneHotEncoder, StringIndexer, VectorAssembler\n",
    "from pyspark.sql.functions import when, lit,udf,col\n",
    "from pyspark.sql.functions import UserDefinedFunction\n",
    "from pyspark.sql.types import *\n",
    "from pyspark.mllib.classification import LogisticRegressionWithSGD,LogisticRegressionWithLBFGS, LogisticRegressionModel\n",
    "from pyspark.mllib.regression import LabeledPoint\n",
    "from pyspark.mllib.linalg import Vector as MLLibVector, Vectors as MLLibVectors\n",
    "import pandas as pd\n",
    "import csv\n",
    "from csv import reader,writer\n",
    "import pickle "
   ]
  },
  {
   "cell_type": "code",
   "execution_count": 19,
   "metadata": {},
   "outputs": [],
   "source": [
    "spark = SparkSession.builder \\\n",
    "    .appName(\"Model1\") \\\n",
    "    .config(\"spark.some.config.option\", \"some-value\") \\\n",
    "    .getOrCreate()\n",
    "\n",
    "spark.conf.set(\"spark.sql.execution.arrow.enabled\", \"true\")"
   ]
  },
  {
   "cell_type": "code",
   "execution_count": 20,
   "metadata": {},
   "outputs": [],
   "source": [
    "data = pd.read_csv('/Users/anand/Downloads/UB/Sem2/DIc/A3/dic487-587/train.csv')\n",
    "data_test = pd.read_csv('/Users/anand/Downloads/UB/Sem2/DIc/A3/dic487-587/test.csv')\n",
    "df2 = spark.createDataFrame(data)\n",
    "df3 = spark.createDataFrame(data_test)\n",
    "mapping = pd.read_csv('/Users/anand/Downloads/UB/Sem2/DIc/A3/dic487-587/mapping.csv')\n",
    "mapping = spark.createDataFrame(mapping)"
   ]
  },
  {
   "cell_type": "code",
   "execution_count": 21,
   "metadata": {},
   "outputs": [],
   "source": [
    "# regular expression tokenizer\n",
    "regexTokenizer = RegexTokenizer(inputCol=\"plot\", outputCol=\"words\", pattern=\"\\\\W\")\n",
    "# stop words\n",
    "stopwordsRemoverList = StopWordsRemover(inputCol=\"words\", outputCol=\"filtered\").loadDefaultStopWords(\"english\")\n",
    "stopwordsRemover = StopWordsRemover(inputCol=\"words\", outputCol=\"filtered\").setStopWords(stopwordsRemoverList)\n",
    "# bag of words count\n",
    "countVectors = CountVectorizer(inputCol=\"filtered\", outputCol=\"features\", vocabSize=10000, minDF=5)"
   ]
  },
  {
   "cell_type": "code",
   "execution_count": 30,
   "metadata": {},
   "outputs": [],
   "source": [
    "hashingTF = HashingTF(inputCol=\"words\", outputCol=\"rawFeatures\", numFeatures=20)\n",
    "idf = IDF(inputCol=\"rawFeatures\", outputCol=\"featuresidf\")"
   ]
  },
  {
   "cell_type": "code",
   "execution_count": 23,
   "metadata": {},
   "outputs": [
    {
     "name": "stdout",
     "output_type": "stream",
     "text": [
      "+--------+--------------------+--------------------+--------------------+----------------+\n",
      "|movie_id|          movie_name|                plot|               genre|             lab|\n",
      "+--------+--------------------+--------------------+--------------------+----------------+\n",
      "|23890098|          Taxi Blues|Shlykov, a hard-w...|['World cinema', ...|          [0, 5]|\n",
      "|31186339|    The Hunger Games|The nation of Pan...|['Action/Adventur...|  [0, 4, 10, 17]|\n",
      "|20663735|          Narasimham|Poovalli Induchoo...|['Musical', 'Acti...|      [0, 4, 16]|\n",
      "| 2231378|  The Lemon Drop Kid|The Lemon Drop Ki...|          ['Comedy']|             [1]|\n",
      "|  595909|   A Cry in the Dark|Seventh-day Adven...|['Crime Fiction',...|       [0, 5, 6]|\n",
      "| 5272176|            End Game|The president is ...|['Action/Adventur...|   [0, 3, 4, 10]|\n",
      "| 1952976|          Dark Water|{{plot}} The film...|['Thriller', 'Dra...|       [0, 3, 7]|\n",
      "|24225279|                Sing|The story begins ...|           ['Drama']|             [0]|\n",
      "| 2462689|       Meet John Doe|Infuriated at bei...|['Black-and-white...|[0, 1, 2, 8, 19]|\n",
      "|20532852|Destination Meatball|A line of people ...|['Animation', 'Sh...|    [12, 13, 15]|\n",
      "|15401493|    Husband for Hire|Lola  attempts to...|          ['Comedy']|             [1]|\n",
      "|18188932|         Up and Down|Milan and Goran a...|['Crime Fiction',...|    [0, 1, 5, 6]|\n",
      "| 2940516|Ghost In The Noon...|Bumbling pirate c...|          ['Comedy']|             [1]|\n",
      "| 1480747|       House Party 2|{{plot}} Followin...|          ['Comedy']|             [1]|\n",
      "|24448645|Forest of the Dam...|Despite Lucy's re...|          ['Horror']|             [7]|\n",
      "|15072401|Charlie Chan's Se...|Alan Colby, heir ...|['Crime Fiction',...|   [3, 6, 7, 18]|\n",
      "| 4018288|     The Biggest Fan|Debbie's favorite...|           ['Drama']|             [0]|\n",
      "| 4596602|      Ashes to Ashes|Ashes to Ashes is...|['Crime Fiction',...| [2, 3, 4, 6, 9]|\n",
      "|15224586|        Green Dragon|The film follows ...|  ['Indie', 'Drama']|          [0, 9]|\n",
      "|15585766|  The Rats of Tobruk|Three friends are...|           ['Drama']|             [0]|\n",
      "+--------+--------------------+--------------------+--------------------+----------------+\n",
      "only showing top 20 rows\n",
      "\n"
     ]
    }
   ],
   "source": [
    "mg = mapping.select(\"0\",\"Unnamed: 0\").rdd.collectAsMap()\n",
    "count = mapping.count()\n",
    "def label_to_id(g):\n",
    "    x=[]\n",
    "    print(g)\n",
    "    for i in g[1:-1].split(\",\"):\n",
    "        x.append(mg.get(i.strip()[1:-1]))\n",
    "    x.sort()\n",
    "    return x\n",
    "udff=UserDefinedFunction(label_to_id,ArrayType(IntegerType()))\n",
    "\n",
    "df2=df2.withColumn(\"lab\",udff(\"genre\"))\n",
    "#df2.show()"
   ]
  },
  {
   "cell_type": "code",
   "execution_count": 24,
   "metadata": {},
   "outputs": [
    {
     "name": "stdout",
     "output_type": "stream",
     "text": [
      "+--------+--------------------+--------------------+--------------------+----------------+--------------------+\n",
      "|movie_id|          movie_name|                plot|               genre|             lab|               label|\n",
      "+--------+--------------------+--------------------+--------------------+----------------+--------------------+\n",
      "|23890098|          Taxi Blues|Shlykov, a hard-w...|['World cinema', ...|          [0, 5]|[1, 0, 0, 0, 0, 1...|\n",
      "|31186339|    The Hunger Games|The nation of Pan...|['Action/Adventur...|  [0, 4, 10, 17]|[1, 0, 0, 0, 1, 0...|\n",
      "|20663735|          Narasimham|Poovalli Induchoo...|['Musical', 'Acti...|      [0, 4, 16]|[1, 0, 0, 0, 1, 0...|\n",
      "| 2231378|  The Lemon Drop Kid|The Lemon Drop Ki...|          ['Comedy']|             [1]|[0, 1, 0, 0, 0, 0...|\n",
      "|  595909|   A Cry in the Dark|Seventh-day Adven...|['Crime Fiction',...|       [0, 5, 6]|[1, 0, 0, 0, 0, 1...|\n",
      "| 5272176|            End Game|The president is ...|['Action/Adventur...|   [0, 3, 4, 10]|[1, 0, 0, 1, 1, 0...|\n",
      "| 1952976|          Dark Water|{{plot}} The film...|['Thriller', 'Dra...|       [0, 3, 7]|[1, 0, 0, 1, 0, 0...|\n",
      "|24225279|                Sing|The story begins ...|           ['Drama']|             [0]|[1, 0, 0, 0, 0, 0...|\n",
      "| 2462689|       Meet John Doe|Infuriated at bei...|['Black-and-white...|[0, 1, 2, 8, 19]|[1, 1, 1, 0, 0, 0...|\n",
      "|20532852|Destination Meatball|A line of people ...|['Animation', 'Sh...|    [12, 13, 15]|[0, 0, 0, 0, 0, 0...|\n",
      "|15401493|    Husband for Hire|Lola  attempts to...|          ['Comedy']|             [1]|[0, 1, 0, 0, 0, 0...|\n",
      "|18188932|         Up and Down|Milan and Goran a...|['Crime Fiction',...|    [0, 1, 5, 6]|[1, 1, 0, 0, 0, 1...|\n",
      "| 2940516|Ghost In The Noon...|Bumbling pirate c...|          ['Comedy']|             [1]|[0, 1, 0, 0, 0, 0...|\n",
      "| 1480747|       House Party 2|{{plot}} Followin...|          ['Comedy']|             [1]|[0, 1, 0, 0, 0, 0...|\n",
      "|24448645|Forest of the Dam...|Despite Lucy's re...|          ['Horror']|             [7]|[0, 0, 0, 0, 0, 0...|\n",
      "|15072401|Charlie Chan's Se...|Alan Colby, heir ...|['Crime Fiction',...|   [3, 6, 7, 18]|[0, 0, 0, 1, 0, 0...|\n",
      "| 4018288|     The Biggest Fan|Debbie's favorite...|           ['Drama']|             [0]|[1, 0, 0, 0, 0, 0...|\n",
      "| 4596602|      Ashes to Ashes|Ashes to Ashes is...|['Crime Fiction',...| [2, 3, 4, 6, 9]|[0, 0, 1, 1, 1, 0...|\n",
      "|15224586|        Green Dragon|The film follows ...|  ['Indie', 'Drama']|          [0, 9]|[1, 0, 0, 0, 0, 0...|\n",
      "|15585766|  The Rats of Tobruk|Three friends are...|           ['Drama']|             [0]|[1, 0, 0, 0, 0, 0...|\n",
      "+--------+--------------------+--------------------+--------------------+----------------+--------------------+\n",
      "only showing top 20 rows\n",
      "\n"
     ]
    }
   ],
   "source": [
    "#Converting mapped ids to one hot encoding \n",
    "def one_hot_list(g):\n",
    "    y=1\n",
    "    x=[]\n",
    "    for i in range(0,count):\n",
    "        x.append(0)\n",
    "    for i in g:\n",
    "        x[i]=1 \n",
    "    return x\n",
    "udff=UserDefinedFunction(one_hot_list,ArrayType(IntegerType()))\n",
    "traindata = df2.withColumn(\"label\",udff(\"lab\"))\n",
    "#traindata.show()"
   ]
  },
  {
   "cell_type": "code",
   "execution_count": 33,
   "metadata": {},
   "outputs": [],
   "source": [
    "#Model2\n",
    "pipeline = Pipeline(stages=[regexTokenizer, stopwordsRemover,countVectors, hashingTF,idf])"
   ]
  },
  {
   "cell_type": "code",
   "execution_count": 34,
   "metadata": {},
   "outputs": [],
   "source": [
    "pipelineFit = pipeline.fit(df2)\n",
    "pipelineFit2 = pipeline.fit(df3)"
   ]
  },
  {
   "cell_type": "code",
   "execution_count": 35,
   "metadata": {},
   "outputs": [],
   "source": [
    "dataset = pipelineFit.transform(traindata)\n",
    "testdataset = pipelineFit2.transform(df3)"
   ]
  },
  {
   "cell_type": "code",
   "execution_count": 36,
   "metadata": {},
   "outputs": [],
   "source": [
    "pred_raw=[]\n",
    "for i in range(0,count):\n",
    "    def prep(line):\n",
    "        return LabeledPoint(line.label[i], MLLibVectors.fromML(line.features))\n",
    "    prepd_data = dataset.rdd.map(prep)\n",
    "    model = LogisticRegressionWithLBFGS.train(prepd_data)\n",
    "    with open('task2model'+str(i)+'.pkl','wb') as fid:\n",
    "        pickle.dump(model, fid)\n",
    "    labelsAndPreds = testdataset.rdd.map(lambda p: (p.movie_id, model.predict(MLLibVectors.fromML(p.features))))\n",
    "    pred_raw.append(labelsAndPreds.collect())"
   ]
  },
  {
   "cell_type": "code",
   "execution_count": 37,
   "metadata": {},
   "outputs": [],
   "source": [
    "column_name = ['movie_id', 'predictions']\n",
    "data = pd.DataFrame(columns = column_name)"
   ]
  },
  {
   "cell_type": "code",
   "execution_count": 38,
   "metadata": {},
   "outputs": [],
   "source": [
    "x=pred_raw\n",
    "preds=[]\n",
    "ids = []\n",
    "for j in range(0,len(x[0])):\n",
    "    preds=[]\n",
    "    ids.append(str(x[0][j][0]))\n",
    "    for i in range(0,count):\n",
    "        preds.append(str(x[i][j][1]))\n",
    "    temp = list(map(int, preds))\n",
    "    #print(temp)\n",
    "    temp2 =  ' '.join(map(str, temp))\n",
    "    #print(int(ids[j]))\n",
    "    temp = pd.DataFrame([[ids[j], temp2]], columns = column_name)\n",
    "    data = data.append(temp)"
   ]
  },
  {
   "cell_type": "code",
   "execution_count": 39,
   "metadata": {},
   "outputs": [],
   "source": [
    "data.to_csv('/Users/anand/Downloads/UB/Sem2/DIc/A3/result732.csv')"
   ]
  }
 ],
 "metadata": {
  "kernelspec": {
   "display_name": "Python 3",
   "language": "python",
   "name": "python3"
  },
  "language_info": {
   "codemirror_mode": {
    "name": "ipython",
    "version": 3
   },
   "file_extension": ".py",
   "mimetype": "text/x-python",
   "name": "python",
   "nbconvert_exporter": "python",
   "pygments_lexer": "ipython3",
   "version": "3.6.5"
  }
 },
 "nbformat": 4,
 "nbformat_minor": 2
}
